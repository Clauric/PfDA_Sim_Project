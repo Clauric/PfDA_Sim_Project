{
 "cells": [
  {
   "cell_type": "markdown",
   "metadata": {},
   "source": [
    "# Simulation of data relating to weather at Dublin Airport\n",
    "* [Introduction](#Introduction)\n",
    "* [What is the dataset?](#What-is-the-dataset?)\n",
    "* [Setup](#Setup)\n",
    "* [Examination of the dataset](#Examination-of-the-dataset)\n",
    " * [Description of dataset](#Description-of-dataset)\n",
    " * [Skewness and kurtosis of dataset](#Skewness-and-kurtosis-of-dataset)\n",
    " * [Correlation](#Correlation)\n",
    " * [Plotting statistics](#Plotting-statistics)\n",
    " * [Discussion of the dataset](#Discussion-of-the-dataset)\n",
    "* [Simulation of new data](#Simulation-of-new-data)\n",
    "* [Further Analysis](#Further-Analysis)\n",
    "* [Bibliography](#Bibliography)\n",
    "\n",
    "## Introduction\n",
    "This notebook is intended to fulfil two tasks, namely, to review a data set; and to simulate data to resemble the dataset chosen. In order to do these tasks, the project (and notebook) will be broken into 2 sections. In the first section, a review of the dataset chosen, in this case, the weather at Dublin Airport, will be conducted. This review will include a statistical review of the data, as well as discussion of what the statistics mean. The second section will be an attempt to simulate like data, based on the information gleaned in the first section.\n",
    "\n",
    "Throughout the notebook, there will be code used. These snippets of code will be used to cleanse the data, provide the statistical analysis, and ultimately attempt to simulate the data. It should be noted that some of the data generated will be random, and therefore the values of the generated data will change, in a [pseudorandom](https://www.random.org/randomness/) manner.\n",
    "## What is the dataset?\n",
    "The dataset that was chosen is the Dublin Airport Weather records from the 1st January, 2016 to the 31st December, 2018. This data was sourced from the [Government of Ireland data website]( https://data.gov.ie/dataset/dublin-airport-hourly-weather-station-data/resource/bbb2cb83-5982-48ca-9da1-95280f5a4c0d?inner_span=True). The dataset from the source is made up of record readings of various weather attributes recorded every hour from the 1st January, 1989 to the 31st December, 2018. Each row in the dataset is made up of the following columns:\n",
    "\n",
    "* __**Rain**__: the amount of precipitation to have fallen within the last hour. Measured in millimetres (mm).\n",
    "* __**Temp**__: the air temperature at the point of record. Measured in degrees Celsius (°C).\n",
    "* __**Wetb**__: the wet bulb temperature at the point of record. Measured in degrees Celsius (°C).\n",
    "* __**Dewpt**__: dew point air temperature at the point of record. Measured in degrees Celsius (°C).\n",
    "* __**Vappr**__: the vapour pressure of the air at the point of record. Measured in hectopascals (hpa).\n",
    "* __**Rhum**__: the relative humidity for the given air temperature. Measured in percent (%).\n",
    "* __**Msl**__: mean sea level pressure. Measured in hectopascals (hpa).\n",
    "* __**Wdsp**__: Mean hourly wind speed. Measured in knots (kt).\n",
    "* __**Wddir**__: Predominant wind direction. Measured in knots (kt).\n",
    "* __**Ww**__: Synop code for resent weather.\n",
    "* __**W**__: Synop code for past weather.\n",
    "* __**Sun**__: The duration of the sun for the last hour. Measured in hours (h).\n",
    "* __**Vis**__: Visibility, or air clarity. Measured in metres (m).\n",
    "* __**Clht**__: Cloud ceiling height. Measured in hundreds of feet (100 ft).\n",
    "* __**Clamt**__: Amount of cloud. Measured using okta.\n",
    "\n",
    "There are also a number of indicators for some of the data recorded. Given the timespan of the data (30 years), the number of record points for each row (up to 21 points), and the hourly record taking, the data set is very large, comprising of nearly 11,000 days, more than 262,000 rows, and 6,300,000 data points.\n",
    "\n",
    "The retrieved dataset is too large for the proposed simulation. It is therefore intended reduce it in size. This has been done by limiting the data to the period of the month of December, and the years of 2016 to 2018 inclusive. The number of record points has been reduced to rain, temperature, relative humidity, sun, and visibility. Additionally, the rows of data have been reduced by amalgamating the hourly records into days. The rainfall levels, and hours of sunshine have been added together to provide a total sum for each day. The temperature, relative humidity, and visibility have been averaged for the day in question. This has reduced the number of dataset to 93 (31 x 3) rows, and 6 columns. \n",
    "\n",
    "Both the original and new datasets are available in this repository.\n",
    "\n",
    "## Why was this dataset chosen?\n",
    "\n",
    "The dataset was chosen for a number of reasons. Primarily, it was chosen as it provides a large volume of data, with interrelated variables. Some of these variables may be positively, or negatively, correlated to each other. This would stand to reason, as the number of hours of sunshine, and the millimetres of rain that have fallen would normally be negatively correlated. Secondly, the dataset is related to the weather in Ireland, or at least Dublin. As the weather .is a favourite topic of conversation, the dataset seemed appropriate.\n",
    "\n",
    "## Setup\n",
    "Before the analysis of the dataset can begin, it is necessary to import both the libraries to be used.\n",
    "\n",
    "* **Pandas**: The data set will be held in various pandas dataframes, which will allow for some statistical analysis to be conducted.\n",
    "* **Seaborn**: Wil be used for various plotting functionality.\n",
    "* **Matplotlib.pyplot**: Will be used for various plotting functionality.\n",
    "* **Scipy.stats**: Will be used to simulate the data for the new dataframe.\n",
    "\n",
    "After this, the data can be imported in a dataframe. This will allow the determination of various statistics with regards to the dataset, as well as providing a basis for the simulation to be run. \n",
    "\n",
    "The script below will import the data, and set it up in a dataframe.\n"
   ]
  },
  {
   "cell_type": "code",
   "execution_count": 92,
   "metadata": {},
   "outputs": [],
   "source": [
    "# Importation of libraries, and setting up data\n",
    "\n",
    "# Importation of libraries\n",
    "import pandas as pd\n",
    "from datetime import date\n",
    "import seaborn as sns\n",
    "import matplotlib.pyplot as plt\n",
    "from scipy.stats import skewnorm\n",
    "from scipy.stats import truncnorm\n",
    "\n",
    "# Source for the data set\n",
    "url = \"https://raw.githubusercontent.com/Clauric/PfDA_Sim_Project/master/Dublin%20Airport%20Weather%202016%20-%202018%20cummulative.csv\"\n",
    "\n",
    "# Create a data frame containing the data set\n",
    "# Set the values in the first column to dates\n",
    "Dublin_df = pd.read_csv(url, parse_dates=[0])\n",
    "\n",
    "# Rename the columns to be easier to read\n",
    "Dublin_df.columns = [\"Date\", \"Rain (mm)\", \"Temp. (°C)\", \"Rel. Hum. (%)\", \"Sun (hrs)\", \"Visibility (m)\"]"
   ]
  },
  {
   "cell_type": "markdown",
   "metadata": {},
   "source": [
    "## Examination of the dataset\n",
    "The data set is expected to have the following attributes:\n",
    "* All columns (except *Date*) to be made up of numbers, either floating or integers.\n",
    "* Date column to be a datetime value.\n",
    "* Only the temperature (*Temp*) column can have a value below zero.\n",
    "* All non-date columns can have an unlimited upper value (except relative humidity (*Rel. Hum.*), which is limited to 100%).\n",
    "\n",
    "Additionally, the dataframe should consist of 93 (31 days per month x 3 months) rows, 6 columns, and 1 row of headers.\n",
    "\n",
    "Looking at the dataframe shapes, type and the first 10 rows, we get the following:"
   ]
  },
  {
   "cell_type": "code",
   "execution_count": 93,
   "metadata": {},
   "outputs": [
    {
     "name": "stdout",
     "output_type": "stream",
     "text": [
      "Shape of dataframe\n",
      "Rows: 93\n",
      "Columns: 6\n",
      "\n",
      "Data types in dataframe\n",
      "Date              datetime64[ns]\n",
      "Rain (mm)                float64\n",
      "Temp. (°C)               float64\n",
      "Rel. Hum. (%)            float64\n",
      "Sun (hrs)                float64\n",
      "Visibility (m)             int64\n",
      "dtype: object\n",
      "\n",
      "First 10 rows of dataframe\n",
      "        Date  Rain (mm)  Temp. (°C)  Rel. Hum. (%)  Sun (hrs)  Visibility (m)\n",
      "0 2016-01-12        0.0        1.38          94.67        6.9            8979\n",
      "1 2016-02-12        0.0        3.29          90.79        0.1           14100\n",
      "2 2016-03-12        0.2        6.60          77.42        0.1           30000\n",
      "3 2016-04-12        0.0        4.84          76.50        0.5           30417\n",
      "4 2016-05-12        0.0        5.00          86.58        0.0           20167\n",
      "5 2016-06-12        0.5       10.55          91.71        0.0           11658\n",
      "6 2016-07-12        0.1       13.81          85.75        0.1           24042\n",
      "7 2016-08-12        3.4       10.10          90.83        5.6           20925\n",
      "8 2016-09-12        0.2       12.36          84.08        0.0           21500\n",
      "9 2016-10-12        0.0        8.21          88.50        0.0           20333\n"
     ]
    }
   ],
   "source": [
    "# Shape, data types and first 10 rows of data set\n",
    "\n",
    "# Shape\n",
    "print(\"Shape of dataframe\")\n",
    "row, column = Dublin_df.shape\n",
    "print(\"Rows:\", row)\n",
    "print(\"Columns:\", column)\n",
    "print()\n",
    "\n",
    "# Types of values\n",
    "print(\"Data types in dataframe\")\n",
    "print(Dublin_df.dtypes)\n",
    "print()\n",
    "\n",
    "# First 10 rows\n",
    "print(\"First 10 rows of dataframe\")\n",
    "print(Dublin_df.head(10))"
   ]
  },
  {
   "cell_type": "markdown",
   "metadata": {},
   "source": [
    "From the above, we can see that the shape of the data is as expected (i.e. 93 rows, 6 columns). The first 10 rows show that the column headers are as expected. While not really an issue, it should be noted that the relative humidity is given as values above 1, even though it is a percentage value. However, for the sake of this analysis, it will be left as is, instead of converting to a value between 0 and 1.\n",
    "\n",
    "### Description of dataset\n",
    "In order to be able to work with the dataset, and draw any conclusions from the data, it is important to determine some of the dataset’s properties. In order to do this, we will extract basic measures, more commonly known as descriptive statistics. These statistics can then be used as a guide to both further analysis, as well as determine which pseudorandom number generator is most appropriate to use (if possible).\n",
    "\n",
    "The initial set of descriptive statistics are the mean, mode, and median of the data, as well as standard deviation, quartiles, and min and max values. Luckily, pandas has the ability to provide the values for most of these statistics, using the describe function. However, while this is useful, it is also necessary to understand what the terms provided by the describe function actually mean.\n",
    "\n",
    "* **Mean**: Also known as the simple average, is the sum of all the values divided by the number of values being summed.\n",
    "* **Standard deviation**: A measure of how are a number is from the mean. In a perfectly normal distribution, ~68% of all values would be within 1 standard deviation of the mean. Represented in the describe output as *std*.\n",
    "* **min**: The lowest value within the dataset.\n",
    "* **25%**: The value for the 25th percentile. In other words, 25% of all the values in the dataset are below this value.\n",
    "* **50%**: The value for the 50% percentile. In other words, 50% of all the values in the dataset are below this value. This value is often called the *median value*.\n",
    "* **75%**: The value for the 75th percentile. In other words, 75% of all the values in the dataset are below this value.\n",
    "* **Max**: The largest value in the dataset.\n",
    "\n",
    "The values for the current dataset are:"
   ]
  },
  {
   "cell_type": "code",
   "execution_count": 94,
   "metadata": {},
   "outputs": [
    {
     "name": "stdout",
     "output_type": "stream",
     "text": [
      "Descriptions of the weather dataset\n",
      "\n",
      "       Rain (mm)  Temp. (°C)  Rel. Hum. (%)  Sun (hrs)  Visibility (m)\n",
      "count  93.000000   93.000000      93.000000  93.000000       93.000000\n",
      "mean    2.040860    6.809892      87.153118   1.615054    22480.709677\n",
      "std     3.562768    2.975827       5.529958   2.053996     6384.259399\n",
      "min     0.000000   -0.520000      73.790000   0.000000     8979.000000\n",
      "25%     0.000000    4.850000      83.170000   0.100000    18792.000000\n",
      "50%     0.200000    6.850000      88.040000   0.500000    22417.000000\n",
      "75%     2.500000    9.020000      90.790000   2.700000    27375.000000\n",
      "max    15.500000   13.810000      97.580000   6.900000    36667.000000\n"
     ]
    }
   ],
   "source": [
    "# Describe function for the weather dataset\n",
    "print(\"Descriptions of the weather dataset\")\n",
    "print()\n",
    "print(Dublin_df.describe())"
   ]
  },
  {
   "cell_type": "markdown",
   "metadata": {},
   "source": [
    "As we can see, certain measures from the descriptive statistics such as correlation, skewness, and kurtosis are missing from the describe functionality. These statistics also give rise to important information regarding the dataset. These will need to be gather to provide a full picture of the dataset.\n",
    "\n",
    "### Skewness and kurtosis of dataset\n",
    "The skewness and kurtosis are interrelated terms that are used to describe the nature of the distribution of the dataset, and how it differs from a normally distributed dataset. The definition of these terms are:\n",
    "•\tSkewness: the direction and amount of asymmetry of the dataset about its mean. If the absolute value of the skewness is:\n",
    "> - greater than 1, the data is highly skewed and the distribution is very asymmetric.\n",
    "> - greater than 1, the data is highly skewed and the distribution is very asymmetric.\n",
    "> - greater than 0.5 and less than 1, the data is moderately skewed, and the distribution is somewhat asymmetric.\n",
    "> - greater than 0, and less than 0.5, the distribution of the data is approximately symmetric.\n",
    "> - equal to 0, the data is normally distributed, and symmetric.\n",
    "\n",
    "The sign of the skewness (i.e. positive or negative) also determines the skewness. Negative skewness indicates that the distribution is skewed to the left, the mean being less than the median, which is less than the mode. Positive values of skewness indicate the opposite, with the distribution being skewed to the right, and the mode being less than the median, which is less than the mean.\n",
    "\n",
    "* Kurtosis: the kurtosis of a dataset indicates the sharpness, or flatness, of the peak of the data (around the mode, or mean, depending on the skewness).\n",
    "\n",
    "The kurtosis is measure against the normal distribution, which has a kurtosis of 0. If the kurtosis is negative, then distribution of the data has a smaller standard deviation, as more values are grouped near the mean. This gives the distribution a sharper, and higher peak, and narrower body. A positive kurtosis indicates that there is less grouping around the mean, and indicating that the distribution has a larger standard deviation. This also gives the distribution a flatter, and lower peak, and a wider body.\n",
    "\n",
    "In pandas, the skewness and kurtosis of a dataset can be ascertained using the *skew* and *kurt* functions. These functions return values for each numeric column within the data set.\n"
   ]
  },
  {
   "cell_type": "code",
   "execution_count": 95,
   "metadata": {},
   "outputs": [
    {
     "name": "stdout",
     "output_type": "stream",
     "text": [
      "Skewness\n",
      "Rain (mm)         2.373325\n",
      "Temp. (°C)       -0.286573\n",
      "Rel. Hum. (%)    -0.289834\n",
      "Sun (hrs)         1.103147\n",
      "Visibility (m)   -0.303844\n",
      "dtype: float64\n",
      "\n",
      "Kurtosis\n",
      "Rain (mm)         5.245557\n",
      "Temp. (°C)       -0.232388\n",
      "Rel. Hum. (%)    -0.558651\n",
      "Sun (hrs)        -0.166213\n",
      "Visibility (m)   -0.512492\n",
      "dtype: float64\n"
     ]
    }
   ],
   "source": [
    "# Skewness and kurtosis of the dataset\n",
    "\n",
    "print(\"Skewness\")\n",
    "print(Dublin_df.skew())\n",
    "\n",
    "print()\n",
    "print(\"Kurtosis\")\n",
    "print(Dublin_df.kurt())"
   ]
  },
  {
   "cell_type": "markdown",
   "metadata": {},
   "source": [
    "### Correlation\n",
    "Correlation is a statistic that can be used to measure how well two sets of data correspond to each other. [Weisstein (2019)](http://mathworld.wolfram.com/Correlation.html) defines correlation as \"*the degree to which two or more quantities are linearly associated*.\" As such, a correlation coefficient can be calculated that shows the relationship between the two sets of variables, as well strength of the relationship.\n",
    "    \n",
    "In correlation analysis, positive values show that the two sets of data are positively correlated (i.e. as one value rises or falls, so does the other). Conversely, negative values indicate that the two data sets are negatively or inversely correlated (i.e. as one value rises, or falls, the other falls, or rises). A zero value indicates that there is no relationship between the two sets of data. The strength of the relationship is indicated be the actual value of the correlation coefficient. An absolute value above 0.5 is considered a strong correlation, and above 0.75 is a very strong correlation. A value of -1 or 1 means that the two sets of data are perfectly correlated (i.e. either perfectly positive or perfectly negative correlation).\n",
    "    \n",
    "In pandas dataframes, the *corr* function can be used to ascertain the correlation between numeric sets of data."
   ]
  },
  {
   "cell_type": "code",
   "execution_count": 96,
   "metadata": {},
   "outputs": [
    {
     "name": "stdout",
     "output_type": "stream",
     "text": [
      "\n",
      "Correlation coefficient for the weather dataset\n",
      "\n",
      "                Rain (mm) Temp. (°C) Rel. Hum. (%) Sun (hrs) Visibility (m)\n",
      "Rain (mm)                  0.0227972      0.186838 -0.183554      -0.363577\n",
      "Temp. (°C)      0.0227972                0.0121619 -0.432843      -0.272923\n",
      "Rel. Hum. (%)    0.186838  0.0121619                 -0.1475      -0.610795\n",
      "Sun (hrs)       -0.183554  -0.432843       -0.1475                 0.280341\n",
      "Visibility (m)  -0.363577  -0.272923     -0.610795  0.280341               \n",
      "\n"
     ]
    },
    {
     "data": {
      "image/png": "[encoded data removed]",
      "text/plain": [
       "<Figure size 864x432 with 2 Axes>"
      ]
     },
     "metadata": {
      "needs_background": "light"
     },
     "output_type": "display_data"
    }
   ],
   "source": [
    "# Correlation analysis fot the weather dataset\n",
    "print()\n",
    "print(\"Correlation coefficient for the weather dataset\")\n",
    "print()\n",
    "\n",
    "# Create new dataframe for the correlation coefficient values\n",
    "corr_df = Dublin_df.corr(method=\"pearson\")\n",
    "\n",
    "# Create separate correlation dataframe for heatmap\n",
    "corr_df_p = corr_df\n",
    "\n",
    "# As each column will be perfectly correlated with itself, there is no need to show these values\n",
    "# Replace the values of 1 with a blank value\n",
    "corr_df = corr_df.replace({1.00000: \"\"})\n",
    "\n",
    "# Print the new dataframe to show the correlation coefficients of the weather dataset\n",
    "print(corr_df)\n",
    "print()\n",
    "\n",
    "# Create heatmap of correlations\n",
    "# From Zaric (2019)\n",
    "ax = sns.heatmap(corr_df_p, vmin=-1, vmax=1, center=0, cmap=sns.diverging_palette(10, 200, n=500), square=True)\n",
    "ax.set_xticklabels(ax.get_xticklabels(), rotation=45, horizontalalignment='right')\n",
    "plt.rcParams[\"figure.figsize\"] = [7, 7]\n",
    "\n",
    "plt.title(\"Heat map for weather dataset correlation\")\n",
    "\n",
    "plt.show()"
   ]
  },
  {
   "cell_type": "markdown",
   "metadata": {},
   "source": [
    "The heatmap and the correlation table, when combined, aloow, at quick glance, to see how the values are correlated against each other.\n",
    "\n",
    "### Plotting statistics\n",
    "Before a discussion of the statistics that were determined, it is useful to plot some of the statistics determined. In this case, it would be useful to plot the some of the columns, which will show the skewness of the distribution."
   ]
  },
  {
   "cell_type": "code",
   "execution_count": 97,
   "metadata": {},
   "outputs": [
    {
     "data": {
      "image/png": "[encoded data removed]",
      "text/plain": [
       "<Figure size 504x504 with 1 Axes>"
      ]
     },
     "metadata": {
      "needs_background": "light"
     },
     "output_type": "display_data"
    }
   ],
   "source": [
    "# Plot of distribution of weather data\n",
    "\n",
    "# For rain, new values for mean and median values\n",
    "R_mean = Dublin_df[\"Rain (mm)\"].mean()\n",
    "R_median = Dublin_df[\"Rain (mm)\"].median()\n",
    "\n",
    "# For temp, new values for mean and median values\n",
    "T_mean = Dublin_df[\"Temp. (°C)\"].mean()\n",
    "T_median = Dublin_df[\"Temp. (°C)\"].median()\n",
    "\n",
    "# For sun, new values for mean and median values\n",
    "S_mean = Dublin_df[\"Sun (hrs)\"].mean()\n",
    "S_median = Dublin_df[\"Sun (hrs)\"].median()\n",
    "\n",
    "# Seaborn distplots showing both histograms and bell curves for temp, rain, and sun\n",
    "sns.distplot(Dublin_df[\"Temp. (°C)\"], axlabel = False, hist = False, label = \"Temp. (°C)\")\n",
    "sns.distplot(Dublin_df[\"Rain (mm)\"], axlabel = False, hist = False, label = \"Rain (mm)\")\n",
    "sns.distplot(Dublin_df[\"Sun (hrs)\"], axlabel = False, hist = False, label = \"Sun (hrs)\")\n",
    "\n",
    "# Plotlines for mean and median\n",
    "plt.axvline(R_mean, color = 'r', linestyle = \"-\", label = \"Rain - mean\")\n",
    "plt.axvline(R_median, color = 'k', linestyle = \"--\", label = \"Rain - median\")\n",
    "plt.axvline(T_mean, color = 'g', linestyle = \"-\", label = \"Temp - mean\")\n",
    "plt.axvline(T_median, color = 'y', linestyle = \"--\", label = \"Temp - median\")\n",
    "plt.axvline(S_median, color = 'b', linestyle = \"-\", label = \"Sun - median\")\n",
    "plt.axvline(S_mean, color = 'm', linestyle = \"--\", label = \"Sun - mean\")\n",
    "\n",
    "# Set size of plot area\n",
    "plt.rcParams[\"figure.figsize\"] = [12, 6]\n",
    "\n",
    "# Set title, labels, and legend\n",
    "plt.title(\"Distribution of rain, temp, and sun\")\n",
    "plt.xlabel(\"mm (rain), temp, hours (sun)\")\n",
    "plt.legend()\n",
    "\n",
    "# Show plot\n",
    "plt.show()"
   ]
  },
  {
   "cell_type": "markdown",
   "metadata": {},
   "source": [
    "Neither visibility or relative humidity were plotted due to the fact that the minimum value for visibility is over 8,000 (m), while the range for relative humidity is 92 (%). Plotting these values would have dwarfed the other values in the plot, and make it difficult to glean any information from it."
   ]
  },
  {
   "cell_type": "code",
   "execution_count": 98,
   "metadata": {},
   "outputs": [
    {
     "name": "stdout",
     "output_type": "stream",
     "text": [
      "                  Rain (mm)   Temp. (°C)  Rel. Hum. (%)    Sun (hrs)  \\\n",
      "Rain (mm)         12.693312     0.241700       3.681067    -1.343230   \n",
      "Temp. (°C)         0.241700     8.855547       0.200138    -2.645683   \n",
      "Rel. Hum. (%)      3.681067     0.200138      30.580433    -1.675384   \n",
      "Sun (hrs)         -1.343230    -2.645683      -1.675384     4.218901   \n",
      "Visibility (m) -8269.782574 -5185.105901  -21563.916259  3676.182679   \n",
      "\n",
      "                Visibility (m)  \n",
      "Rain (mm)        -8.269783e+03  \n",
      "Temp. (°C)       -5.185106e+03  \n",
      "Rel. Hum. (%)    -2.156392e+04  \n",
      "Sun (hrs)         3.676183e+03  \n",
      "Visibility (m)    4.075877e+07  \n"
     ]
    }
   ],
   "source": [
    "print(Dublin_df.cov())"
   ]
  },
  {
   "cell_type": "code",
   "execution_count": 99,
   "metadata": {},
   "outputs": [
    {
     "name": "stdout",
     "output_type": "stream",
     "text": [
      "Shape of new dataframe\n",
      "(93, 6)\n",
      "\n",
      "Stats for new dataframe\n",
      "       Rain (mm)  Temp. (°C)  Rel Hum (%)  Sun (hrs)  Visibility (m)\n",
      "count  93.000000   93.000000    93.000000  93.000000       93.000000\n",
      "mean    6.117337    7.086387     4.067561   3.687439     5000.523731\n",
      "std     3.367853    2.439998     2.630885   1.375808     3679.578761\n",
      "min     0.000000    0.769357     0.070564   0.000000       14.393167\n",
      "25%     3.468415    5.535157     1.764008   2.890066     1780.618204\n",
      "50%     5.416549    7.045131     4.167912   3.635342     4340.904702\n",
      "75%     8.734943    8.872204     5.395253   4.694211     7985.021835\n",
      "max    15.500000   13.606321    10.777892   6.900000    14171.743306\n",
      "\n",
      "Top 5 rows of new dataframe\n",
      "        Date  Rain (mm)  Temp. (°C)  Rel Hum (%)  Sun (hrs)  Visibility (m)\n",
      "0 2016-01-12   3.131472    2.981114     3.902753   5.563482     1957.175172\n",
      "1 2016-02-12  10.399640    9.044001     4.656184   5.017556     3855.019926\n",
      "2 2016-03-12   6.268302    4.944967     2.513810   1.063033    10639.199293\n",
      "3 2016-04-12  11.421063    6.758503     6.981839   2.657938     1181.797385\n",
      "4 2016-05-12   9.441899    9.396264    10.777892   3.661455     6556.148503\n",
      "Date              datetime64[ns]\n",
      "Rain (mm)                float64\n",
      "Temp. (°C)               float64\n",
      "Rel Hum (%)              float64\n",
      "Sun (hrs)                float64\n",
      "Visibility (m)           float64\n",
      "dtype: object\n"
     ]
    }
   ],
   "source": [
    "# Simulation of new data\n",
    "\n",
    "# Variables needed to generate random values\n",
    "# Skewness\n",
    "R_skew = Dublin_df[\"Rain (mm)\"].skew()\n",
    "S_skew = Dublin_df[\"Sun (hrs)\"].skew()\n",
    "\n",
    "# Standard deviations\n",
    "RH_std = Dublin_df[\"Rel. Hum. (%)\"].std()\n",
    "T_std = Dublin_df[\"Temp. (°C)\"].std()\n",
    "V_std = Dublin_df[\"Visibility (m)\"].std()\n",
    "\n",
    "# Mean values\n",
    "RH_mean = Dublin_df[\"Rel. Hum. (%)\"].mean()\n",
    "T_mean # Already calculated\n",
    "V_mean = Dublin_df[\"Visibility (m)\"].mean()\n",
    "\n",
    "# Other variables\n",
    "No_of_samples = 93\n",
    "R_max_value = Dublin_df[\"Rain (mm)\"].max() # Taking the max value in the original dataframe as the max for the new dataframe\n",
    "S_max_value = Dublin_df[\"Sun (hrs)\"].max() # Taking the max value in the original dataframe as the max for the new dataframe\n",
    "T_max_value = Dublin_df[\"Temp. (°C)\"].max() # Taking the max value in the original dataframe as the max for the new dataframe\n",
    "T_min_value = Dublin_df[\"Temp. (°C)\"].min() # Taking the min value in the original dataframe as the min for the new dataframe\n",
    "V_max_value = Dublin_df[\"Visibility (m)\"].max() # Taking the min value in the original dataframe as the min for the new dataframe\n",
    "\n",
    "# Rain - using skewnorm (Horvitz, 2011)\n",
    "R_random = skewnorm.rvs(a = R_skew, loc = R_max_value, size = No_of_samples)  #Skewnorm function\n",
    "R_random = R_random - min(R_random)      #Shift the set so the minimum value is equal to zero.\n",
    "R_random = R_random / max(R_random)      #Standadize all the vlues between 0 and 1. \n",
    "R_random = R_random * R_max_value         #Multiply the standardized values by the maximum value.\n",
    "\n",
    "# Sun - using skewnorm (Horvitz, 2011)\n",
    "S_random = skewnorm.rvs(a = S_skew, loc = S_max_value, size = No_of_samples)  #Skewnorm function\n",
    "S_random = S_random - min(S_random)      #Shift the set so the minimum value is equal to zero.\n",
    "S_random = S_random / max(S_random)      #Standadize all the vlues between 0 and 1. \n",
    "S_random = S_random * S_max_value         #Multiply the standardized values by the maximum value.\n",
    "\n",
    "# Truncated norm values as each has a hard upper and/or lower bound\n",
    "RH_random = truncnorm.rvs(a = 0/RH_std, b = (100 - RH_mean)/RH_std, scale = RH_std, size = No_of_samples)\n",
    "T_random = truncnorm.rvs(a = (T_min_value - T_mean)/T_std, b = (T_max_value - T_mean)/T_std, loc = T_mean, scale = T_std, size = No_of_samples)\n",
    "V_random = truncnorm.rvs(a = 0/V_std, b = (V_max_value - V_mean)/V_std, scale = V_std, size = No_of_samples)\n",
    "\n",
    "Random_df = pd.DataFrame({\n",
    "    \"Date\": Dublin_df[\"Date\"],\n",
    "    \"Rain (mm)\": R_random,\n",
    "    \"Temp. (°C)\": T_random,\n",
    "    \"Rel Hum (%)\": RH_random,\n",
    "    \"Sun (hrs)\": S_random,\n",
    "    \"Visibility (m)\": V_random\n",
    "})\n",
    "\n",
    "print(\"Shape of new dataframe\")\n",
    "print(Random_df.shape)\n",
    "print()\n",
    "print(\"Stats for new dataframe\")\n",
    "print(Random_df.describe())\n",
    "print()\n",
    "print(\"Top 5 rows of new dataframe\")\n",
    "print(Random_df.head(5))\n",
    "\n",
    "print(Random_df.dtypes)"
   ]
  },
  {
   "cell_type": "code",
   "execution_count": null,
   "metadata": {},
   "outputs": [],
   "source": []
  },
  {
   "cell_type": "code",
   "execution_count": null,
   "metadata": {},
   "outputs": [],
   "source": []
  }
 ],
 "metadata": {
  "kernelspec": {
   "display_name": "Python 3",
   "language": "python",
   "name": "python3"
  },
  "language_info": {
   "codemirror_mode": {
    "name": "ipython",
    "version": 3
   },
   "file_extension": ".py",
   "mimetype": "text/x-python",
   "name": "python",
   "nbconvert_exporter": "python",
   "pygments_lexer": "ipython3",
   "version": "3.7.3"
  }
 },
 "nbformat": 4,
 "nbformat_minor": 2
}
