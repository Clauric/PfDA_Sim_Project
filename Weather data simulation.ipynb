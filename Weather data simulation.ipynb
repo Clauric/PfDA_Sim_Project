{
 "cells": [
  {
   "cell_type": "markdown",
   "metadata": {},
   "source": [
    "# Simulation of data relating to weather at Dublin Airport\n",
    "* [Introduction](#Introduction)\n",
    "* [What is the dataset?](#What-is-the-dataset?)\n",
    "* [Setup](#Setup)\n",
    "* [Examination of the dataset](#Examination-of-the-dataset)\n",
    " * [Description of dataset](#Description-of-dataset)\n",
    " * [Skewness and kurtosis of dataset](#Skewness-and-kurtosis-of-dataset)\n",
    " * [Correlation](#Correlation)\n",
    " * [Plotting statistics](#Plotting-statistics)\n",
    " * [Discussion of the dataset](#Discussion-of-the-dataset)\n",
    "* [Simulation of new data](#Simulation-of-new-data)\n",
    " * [Additional checks](#Additional_checks)\n",
    "* [Conclusion](#Conclusion)\n",
    "* [Bibliography](#Bibliography)\n",
    "\n",
    "## Introduction\n",
    "This notebook is intended to fulfil two tasks, namely, to review a data set; and to simulate data to resemble the dataset chosen. In order to do these tasks, the project (and notebook) will be broken into 2 sections. In the first section, a review of the dataset chosen, in this case, the weather at Dublin Airport, will be conducted. This review will include a statistical review of the data, as well as discussion of what the statistics mean. The second section will be an attempt to simulate like data, based on the information gleaned in the first section.\n",
    "\n",
    "Throughout the notebook, there will be code used. These snippets of code will be used to cleanse the data, provide the statistical analysis, and ultimately attempt to simulate the data. It should be noted that some of the data generated will be random, and therefore the values of the generated data will change, in a [pseudorandom](https://www.random.org/randomness/) manner.\n",
    "## What is the dataset?\n",
    "The dataset that was chosen is the Dublin Airport Weather records from the 1st January, 2016 to the 31st December, 2018. This data was sourced from the [Government of Ireland data website]( https://data.gov.ie/dataset/dublin-airport-hourly-weather-station-data/resource/bbb2cb83-5982-48ca-9da1-95280f5a4c0d?inner_span=True). The dataset from the source is made up of record readings of various weather attributes recorded every hour from the 1st January, 1989 to the 31st December, 2018. Each row in the dataset is made up of the following columns:\n",
    "\n",
    "* __**Rain**__: the amount of precipitation to have fallen within the last hour. Measured in millimetres (mm).\n",
    "* __**Temp**__: the air temperature at the point of record. Measured in degrees Celsius (°C).\n",
    "* __**Wetb**__: the wet bulb temperature at the point of record. Measured in degrees Celsius (°C).\n",
    "* __**Dewpt**__: dew point air temperature at the point of record. Measured in degrees Celsius (°C).\n",
    "* __**Vappr**__: the vapour pressure of the air at the point of record. Measured in hectopascals (hpa).\n",
    "* __**Rhum**__: the relative humidity for the given air temperature. Measured in percent (%).\n",
    "* __**Msl**__: mean sea level pressure. Measured in hectopascals (hpa).\n",
    "* __**Wdsp**__: Mean hourly wind speed. Measured in knots (kt).\n",
    "* __**Wddir**__: Predominant wind direction. Measured in knots (kt).\n",
    "* __**Ww**__: Synop code for resent weather.\n",
    "* __**W**__: Synop code for past weather.\n",
    "* __**Sun**__: The duration of the sun for the last hour. Measured in hours (h).\n",
    "* __**Vis**__: Visibility, or air clarity. Measured in metres (m).\n",
    "* __**Clht**__: Cloud ceiling height. Measured in hundreds of feet (100 ft).\n",
    "* __**Clamt**__: Amount of cloud. Measured using okta.\n",
    "\n",
    "There are also a number of indicators for some of the data recorded. Given the timespan of the data (30 years), the number of record points for each row (up to 21 points), and the hourly record taking, the data set is very large, comprising of nearly 11,000 days, more than 262,000 rows, and 6,300,000 data points.\n",
    "\n",
    "The retrieved dataset is too large for the proposed simulation. It is therefore intended reduce it in size. This has been done by limiting the data to the period of the month of December, and the years of 2016 to 2018 inclusive. The number of record points has been reduced to rain, temperature, relative humidity, sun, and visibility. Additionally, the rows of data have been reduced by amalgamating the hourly records into days. The rainfall levels, and hours of sunshine have been added together to provide a total sum for each day. The temperature, relative humidity, and visibility have been averaged for the day in question. This has reduced the number of dataset to 93 (31 x 3) rows, and 6 columns. \n",
    "\n",
    "Both the original and new datasets are available in this repository.\n",
    "\n",
    "## Why was this dataset chosen?\n",
    "\n",
    "The dataset was chosen for a number of reasons. Primarily, it was chosen as it provides a large volume of data, with interrelated variables. Some of these variables may be positively, or negatively, correlated to each other. This would stand to reason, as the number of hours of sunshine, and the millimetres of rain that have fallen would normally be negatively correlated. Secondly, the dataset is related to the weather in Ireland, or at least Dublin. As the weather .is a favourite topic of conversation, the dataset seemed appropriate.\n",
    "\n",
    "## Setup\n",
    "Before the analysis of the dataset can begin, it is necessary to import both the libraries to be used.\n",
    "\n",
    "* **Pandas**: The data set will be held in various pandas dataframes, which will allow for some statistical analysis to be conducted.\n",
    "* **Seaborn**: Wil be used for various plotting functionality.\n",
    "* **Matplotlib.pyplot**: Will be used for various plotting functionality.\n",
    "* **Scipy.stats**: Will be used to simulate the data for the new dataframe.\n",
    "\n",
    "After this, the data can be imported in a dataframe. This will allow the determination of various statistics with regards to the dataset, as well as providing a basis for the simulation to be run. \n",
    "\n",
    "The script below will import the data, and set it up in a dataframe.\n"
   ]
  },
  {
   "cell_type": "code",
   "execution_count": 39,
   "metadata": {},
   "outputs": [],
   "source": [
    "# Importation of libraries, and setting up data\n",
    "\n",
    "# Importation of libraries\n",
    "import pandas as pd\n",
    "import math\n",
    "import matplotlib.pyplot as plt\n",
    "import seaborn as sns\n",
    "from scipy.stats import skewnorm\n",
    "from datetime import date\n",
    "\n",
    "# Source for the data set\n",
    "url = \"https://raw.githubusercontent.com/Clauric/PfDA_Sim_Project/master/Dublin%20Airport%20Weather%202016%20-%202018%20cummulative.csv\"\n",
    "\n",
    "# Create a data frame containing the data set\n",
    "# Set the values in the first column to dates\n",
    "Dublin_df = pd.read_csv(url, parse_dates=[0])\n",
    "\n",
    "# Rename the columns to be easier to read\n",
    "Dublin_df.columns = [\"Date\", \"Rain (mm)\", \"Temp. (°C)\", \"Rel. Hum. (%)\", \"Sun (hrs)\", \"Visibility (m)\"]"
   ]
  },
  {
   "cell_type": "markdown",
   "metadata": {},
   "source": [
    "## Examination of the dataset\n",
    "The data set is expected to have the following attributes:\n",
    "* All columns (except *Date*) to be made up of numbers, either floating or integers.\n",
    "* Date column to be a datetime value.\n",
    "* Only the temperature (*Temp*) column can have a value below zero.\n",
    "* All non-date columns can have an unlimited upper value (except relative humidity (*Rel. Hum.*), which is limited to 100%).\n",
    "\n",
    "Additionally, the dataframe should consist of 93 (31 days per month x 3 months) rows, 6 columns, and 1 row of headers.\n",
    "\n",
    "Looking at the dataframe shapes, type and the first 10 rows, we get the following:"
   ]
  },
  {
   "cell_type": "code",
   "execution_count": 40,
   "metadata": {},
   "outputs": [
    {
     "name": "stdout",
     "output_type": "stream",
     "text": [
      "Shape of dataframe\n",
      "Rows: 93\n",
      "Columns: 6\n",
      "\n",
      "Data types in dataframe\n",
      "Date              datetime64[ns]\n",
      "Rain (mm)                float64\n",
      "Temp. (°C)               float64\n",
      "Rel. Hum. (%)            float64\n",
      "Sun (hrs)                float64\n",
      "Visibility (m)             int64\n",
      "dtype: object\n",
      "\n",
      "First 10 rows of dataframe\n",
      "        Date  Rain (mm)  Temp. (°C)  Rel. Hum. (%)  Sun (hrs)  Visibility (m)\n",
      "0 2016-01-12        0.0        1.38          94.67        6.9            8979\n",
      "1 2016-02-12        0.0        3.29          90.79        0.1           14100\n",
      "2 2016-03-12        0.2        6.60          77.42        0.1           30000\n",
      "3 2016-04-12        0.0        4.84          76.50        0.5           30417\n",
      "4 2016-05-12        0.0        5.00          86.58        0.0           20167\n",
      "5 2016-06-12        0.5       10.55          91.71        0.0           11658\n",
      "6 2016-07-12        0.1       13.81          85.75        0.1           24042\n",
      "7 2016-08-12        3.4       10.10          90.83        5.6           20925\n",
      "8 2016-09-12        0.2       12.36          84.08        0.0           21500\n",
      "9 2016-10-12        0.0        8.21          88.50        0.0           20333\n"
     ]
    }
   ],
   "source": [
    "# Shape, data types and first 10 rows of data set\n",
    "\n",
    "# Shape\n",
    "print(\"Shape of dataframe\")\n",
    "row, column = Dublin_df.shape\n",
    "print(\"Rows:\", row)\n",
    "print(\"Columns:\", column)\n",
    "print()\n",
    "\n",
    "# Types of values\n",
    "print(\"Data types in dataframe\")\n",
    "print(Dublin_df.dtypes)\n",
    "print()\n",
    "\n",
    "# First 10 rows\n",
    "print(\"First 10 rows of dataframe\")\n",
    "print(Dublin_df.head(10))"
   ]
  },
  {
   "cell_type": "markdown",
   "metadata": {},
   "source": [
    "From the above, we can see that the shape of the data is as expected (i.e. 93 rows, 6 columns). The first 10 rows show that the column headers are as expected. While not really an issue, it should be noted that the relative humidity is given as values above 1, even though it is a percentage value. However, for the sake of this analysis, it will be left as is, instead of converting to a value between 0 and 1.\n",
    "\n",
    "### Description of dataset\n",
    "In order to be able to work with the dataset, and draw any conclusions from the data, it is important to determine some of the dataset’s properties. In order to do this, we will extract basic measures, more commonly known as descriptive statistics. These statistics can then be used as a guide to both further analysis, as well as determine which pseudorandom number generator is most appropriate to use (if possible).\n",
    "\n",
    "The initial set of descriptive statistics are the mean, mode, and median of the data, as well as standard deviation, quartiles, and min and max values. Luckily, pandas has the ability to provide the values for most of these statistics, using the describe function. However, while this is useful, it is also necessary to understand what the terms provided by the describe function actually mean.\n",
    "\n",
    "* **Mean**: Also known as the simple average, is the sum of all the values divided by the number of values being summed.\n",
    "* **Standard deviation**: A measure of how are a number is from the mean. In a perfectly normal distribution, ~68% of all values would be within 1 standard deviation of the mean. Represented in the describe output as *std*.\n",
    "* **min**: The lowest value within the dataset.\n",
    "* **25%**: The value for the 25th percentile. In other words, 25% of all the values in the dataset are below this value.\n",
    "* **50%**: The value for the 50% percentile. In other words, 50% of all the values in the dataset are below this value. This value is often called the *median value*.\n",
    "* **75%**: The value for the 75th percentile. In other words, 75% of all the values in the dataset are below this value.\n",
    "* **Max**: The largest value in the dataset.\n",
    "\n",
    "The values for the current dataset are:"
   ]
  },
  {
   "cell_type": "code",
   "execution_count": 41,
   "metadata": {},
   "outputs": [
    {
     "name": "stdout",
     "output_type": "stream",
     "text": [
      "Descriptions of the weather dataset\n",
      "\n",
      "       Rain (mm)  Temp. (°C)  Rel. Hum. (%)  Sun (hrs)  Visibility (m)\n",
      "count  93.000000   93.000000      93.000000  93.000000       93.000000\n",
      "mean    2.040860    6.809892      87.153118   1.615054    22480.709677\n",
      "std     3.562768    2.975827       5.529958   2.053996     6384.259399\n",
      "min     0.000000   -0.520000      73.790000   0.000000     8979.000000\n",
      "25%     0.000000    4.850000      83.170000   0.100000    18792.000000\n",
      "50%     0.200000    6.850000      88.040000   0.500000    22417.000000\n",
      "75%     2.500000    9.020000      90.790000   2.700000    27375.000000\n",
      "max    15.500000   13.810000      97.580000   6.900000    36667.000000\n"
     ]
    }
   ],
   "source": [
    "# Describe function for the weather dataset\n",
    "print(\"Descriptions of the weather dataset\")\n",
    "print()\n",
    "print(Dublin_df.describe())"
   ]
  },
  {
   "cell_type": "markdown",
   "metadata": {},
   "source": [
    "As we can see, certain measures from the descriptive statistics such as correlation, skewness, and kurtosis are missing from the describe functionality. These statistics also give rise to important information regarding the dataset. These will need to be gather to provide a full picture of the dataset.\n",
    "\n",
    "### Skewness and kurtosis of dataset\n",
    "The skewness and kurtosis are interrelated terms that are used to describe the nature of the distribution of the dataset, and how it differs from a normally distributed dataset. The definition of these terms are:\n",
    "•\tSkewness: the direction and amount of asymmetry of the dataset about its mean. If the absolute value of the skewness is:\n",
    "> - greater than 1, the data is highly skewed and the distribution is very asymmetric.\n",
    "> - greater than 1, the data is highly skewed and the distribution is very asymmetric.\n",
    "> - greater than 0.5 and less than 1, the data is moderately skewed, and the distribution is somewhat asymmetric.\n",
    "> - greater than 0, and less than 0.5, the distribution of the data is approximately symmetric.\n",
    "> - equal to 0, the data is normally distributed, and symmetric.\n",
    "\n",
    "The sign of the skewness (i.e. positive or negative) also determines the skewness. Negative skewness indicates that the distribution is skewed to the left, the mean being less than the median, which is less than the mode. Positive values of skewness indicate the opposite, with the distribution being skewed to the right, and the mode being less than the median, which is less than the mean.\n",
    "\n",
    "* Kurtosis: the kurtosis of a dataset indicates the sharpness, or flatness, of the peak of the data (around the mode, or mean, depending on the skewness).\n",
    "\n",
    "The kurtosis is measure against the normal distribution, which has a kurtosis of 0. If the kurtosis is negative, then distribution of the data has a smaller standard deviation, as more values are grouped near the mean. This gives the distribution a sharper, and higher peak, and narrower body. A positive kurtosis indicates that there is less grouping around the mean, and indicating that the distribution has a larger standard deviation. This also gives the distribution a flatter, and lower peak, and a wider body.\n",
    "\n",
    "In pandas, the skewness and kurtosis of a dataset can be ascertained using the *skew* and *kurt* functions. These functions return values for each numeric column within the data set.\n"
   ]
  },
  {
   "cell_type": "code",
   "execution_count": 42,
   "metadata": {},
   "outputs": [
    {
     "name": "stdout",
     "output_type": "stream",
     "text": [
      "Skewness\n",
      "Rain (mm)         2.373325\n",
      "Temp. (°C)       -0.286573\n",
      "Rel. Hum. (%)    -0.289834\n",
      "Sun (hrs)         1.103147\n",
      "Visibility (m)   -0.303844\n",
      "dtype: float64\n",
      "\n",
      "Kurtosis\n",
      "Rain (mm)         5.245557\n",
      "Temp. (°C)       -0.232388\n",
      "Rel. Hum. (%)    -0.558651\n",
      "Sun (hrs)        -0.166213\n",
      "Visibility (m)   -0.512492\n",
      "dtype: float64\n"
     ]
    }
   ],
   "source": [
    "# Skewness and kurtosis of the dataset\n",
    "\n",
    "print(\"Skewness\")\n",
    "print(Dublin_df.skew())\n",
    "\n",
    "print()\n",
    "print(\"Kurtosis\")\n",
    "print(Dublin_df.kurt())"
   ]
  },
  {
   "cell_type": "markdown",
   "metadata": {},
   "source": [
    "### Correlation\n",
    "Correlation is a statistic that can be used to measure how well two sets of data correspond to each other. [Weisstein (2019)](http://mathworld.wolfram.com/Correlation.html) defines correlation as \"*the degree to which two or more quantities are linearly associated*.\" As such, a correlation coefficient can be calculated that shows the relationship between the two sets of variables, as well strength of the relationship.\n",
    "    \n",
    "In correlation analysis, positive values show that the two sets of data are positively correlated (i.e. as one value rises or falls, so does the other). Conversely, negative values indicate that the two data sets are negatively or inversely correlated (i.e. as one value rises, or falls, the other falls, or rises). A zero value indicates that there is no relationship between the two sets of data. The strength of the relationship is indicated be the actual value of the correlation coefficient. An absolute value above 0.5 is considered a strong correlation, and above 0.75 is a very strong correlation. A value of -1 or 1 means that the two sets of data are perfectly correlated (i.e. either perfectly positive or perfectly negative correlation).\n",
    "    \n",
    "In pandas dataframes, the *corr* function can be used to ascertain the correlation between numeric sets of data."
   ]
  },
  {
   "cell_type": "code",
   "execution_count": 43,
   "metadata": {},
   "outputs": [
    {
     "name": "stdout",
     "output_type": "stream",
     "text": [
      "\n",
      "Correlation coefficient for the weather dataset\n",
      "\n",
      "                Rain (mm) Temp. (°C) Rel. Hum. (%) Sun (hrs) Visibility (m)\n",
      "Rain (mm)                  0.0227972      0.186838 -0.183554      -0.363577\n",
      "Temp. (°C)      0.0227972                0.0121619 -0.432843      -0.272923\n",
      "Rel. Hum. (%)    0.186838  0.0121619                 -0.1475      -0.610795\n",
      "Sun (hrs)       -0.183554  -0.432843       -0.1475                 0.280341\n",
      "Visibility (m)  -0.363577  -0.272923     -0.610795  0.280341               \n",
      "\n"
     ]
    },
    {
     "data": {
      "image/png": "[encoded data removed]",
      "text/plain": [
       "<Figure size 864x432 with 2 Axes>"
      ]
     },
     "metadata": {
      "needs_background": "light"
     },
     "output_type": "display_data"
    }
   ],
   "source": [
    "# Correlation analysis fot the weather dataset\n",
    "print()\n",
    "print(\"Correlation coefficient for the weather dataset\")\n",
    "print()\n",
    "\n",
    "# Create new dataframe for the correlation coefficient values\n",
    "corr_df = Dublin_df.corr(method=\"pearson\")\n",
    "\n",
    "# Create separate correlation dataframe for heatmap\n",
    "corr_df_p = corr_df\n",
    "\n",
    "# As each column will be perfectly correlated with itself, there is no need to show these values\n",
    "# Replace the values of 1 with a blank value\n",
    "corr_df = corr_df.replace({1.00000: \"\"})\n",
    "\n",
    "# Print the new dataframe to show the correlation coefficients of the weather dataset\n",
    "print(corr_df)\n",
    "print()\n",
    "\n",
    "# Create heatmap of correlations\n",
    "# From Zaric (2019)\n",
    "ax = sns.heatmap(corr_df_p, vmin=-1, vmax=1, center=0, cmap=sns.diverging_palette(10, 200, n=500), square=True)\n",
    "ax.set_xticklabels(ax.get_xticklabels(), rotation=45, horizontalalignment='right')\n",
    "plt.rcParams[\"figure.figsize\"] = [7, 7]\n",
    "\n",
    "plt.title(\"Heat map for weather dataset correlation\")\n",
    "\n",
    "plt.show()"
   ]
  },
  {
   "cell_type": "markdown",
   "metadata": {},
   "source": [
    "The heatmap and the correlation table, when combined, aloow, at quick glance, to see how the values are correlated against each other.\n",
    "\n",
    "### Plotting statistics\n",
    "Before a discussion of the statistics that were determined, it is useful to plot some of the statistics determined. In this case, it would be useful to plot the some of the columns, which will show the skewness of the distribution."
   ]
  },
  {
   "cell_type": "code",
   "execution_count": 50,
   "metadata": {},
   "outputs": [
    {
     "data": {
      "image/png": "[encoded data removed]",
      "text/plain": [
       "<Figure size 864x432 with 1 Axes>"
      ]
     },
     "metadata": {
      "needs_background": "light"
     },
     "output_type": "display_data"
    }
   ],
   "source": [
    "# Plot of distribution of weather data\n",
    "\n",
    "# For rain, new values for mean and median values\n",
    "R_mean = Dublin_df[\"Rain (mm)\"].mean()\n",
    "R_median = Dublin_df[\"Rain (mm)\"].median()\n",
    "\n",
    "# For temp, new values for mean and median values\n",
    "T_mean = Dublin_df[\"Temp. (°C)\"].mean()\n",
    "T_median = Dublin_df[\"Temp. (°C)\"].median()\n",
    "\n",
    "# For sun, new values for mean and median values\n",
    "S_mean = Dublin_df[\"Sun (hrs)\"].mean()\n",
    "S_median = Dublin_df[\"Sun (hrs)\"].median()\n",
    "\n",
    "# Seaborn distplots showing both histograms and bell curves for temp, rain, and sun\n",
    "sns.distplot(Dublin_df[\"Temp. (°C)\"], axlabel = False, kde = False, label = \"Temp. (°C)\")\n",
    "sns.distplot(Dublin_df[\"Rain (mm)\"], axlabel = False, kde = False, label = \"Rain (mm)\")\n",
    "sns.distplot(Dublin_df[\"Sun (hrs)\"], axlabel = False, kde = False, label = \"Sun (hrs)\")\n",
    "\n",
    "# Plotlines for mean and median\n",
    "plt.axvline(R_mean, color = 'r', linestyle = \"-\", label = \"Rain - mean\")\n",
    "plt.axvline(R_median, color = 'k', linestyle = \"--\", label = \"Rain - median\")\n",
    "plt.axvline(T_mean, color = 'g', linestyle = \"-\", label = \"Temp - mean\")\n",
    "plt.axvline(T_median, color = 'y', linestyle = \"--\", label = \"Temp - median\")\n",
    "plt.axvline(S_median, color = 'b', linestyle = \"-\", label = \"Sun - median\")\n",
    "plt.axvline(S_mean, color = 'm', linestyle = \"--\", label = \"Sun - mean\")\n",
    "\n",
    "# Set size of plot area\n",
    "plt.rcParams[\"figure.figsize\"] = [15, 6]\n",
    "\n",
    "# Set title, labels, and legend\n",
    "plt.title(\"Histogram of rain, temp, and sun vs frequency\")\n",
    "plt.xlabel(\"mm (rain), temp (°C), hours (sun)\")\n",
    "plt.ylabel(\"Frequency\")\n",
    "\n",
    "plt.grid(b = True, which = \"major\", axis = \"x\")\n",
    "plt.legend()\n",
    "\n",
    "# Show plot\n",
    "plt.show()"
   ]
  },
  {
   "cell_type": "markdown",
   "metadata": {},
   "source": [
    "Neither visibility or relative humidity were plotted due to the fact that the minimum value for visibility is over 8,000 (m), while the range for relative humidity is 92 (%). Plotting these values would have dwarfed the other values in the plot, and make it difficult to glean any information from it."
   ]
  },
  {
   "cell_type": "markdown",
   "metadata": {},
   "source": [
    "### Discussion of dataset\n",
    "\n",
    "## Simulation of new data\n",
    "Looking back at the original data, and as per the discussion above, a number of statistics stand out. The most significant is that all the 5 sets of data are negatively skewed to one degree or other. This means that using a normal distribution would not return an accurate dataset. As such, it will be necessary to find another method to simulate the data for a new dataset.\n",
    "\n",
    "There are a number of methods that could be used to simulate the new data. These include use np.random.multivariate, scipy.JohsnonB, scipy.truncnorm, or scipy.skewnorm. The first and third options used the normal distribution, but do not account for the skewness of the data. Likewise the JohnsonB distribution does not account for the skewness. As such, the scipy.skewnorm, which accounts for the skewness of the data.\n",
    "\n",
    "Using the scipy.skewnorm distribution, there are a number of steps that need to be taken to simulate the new dataset. These are:\n",
    "1. Determine the skewness, standard deviation, and mean of each of the columns in the original data set, using the *skew()*, *std()*, and *mean()* functionality respectively.\n",
    "2. Set the number of random values for each of the columns to be simulated to 93, to match the original dataset.\n",
    "3. Based on [Weckesser (2018)](https://stackoverflow.com/questions/49367436/scipy-skewnorm-mean-not-matching-theory), for each of the columns (ie. Rain, Temperature, Relative Humidity, Sun, and Visibility) calculate the delta, adjusted standard deviation, and adjusted mean, using the formulae:\n",
    "> - Delta – skew / square_root (1 + skew ^ 2))\n",
    "> - Adjusted_StD – square_root( Std ^ 2) / (1 – 2 x (delta ^ 2) / pi))\n",
    "> - Adjusted_Mean – Mean – Adjusted_StD x square_root(2 / pi) * delta\n",
    "4. Using the values derived from above, input the values into the scipy.skewnorm formula as follows:\n",
    "> - X = skewnorm.rvs(Skew, loc = Adjusted_Mean, scale = Adjusted_StD, size = sample_size)\n",
    "5. These values can be put together into a new dataset.\n",
    "6. From this dataset, we can check the simulated data against the original dataset. This will show how close the simulated data is against the original dataset. *Note: there is not a set seed for these calculations, so the simulated values will change each time it is run.*"
   ]
  },
  {
   "cell_type": "code",
   "execution_count": 45,
   "metadata": {},
   "outputs": [
    {
     "name": "stdout",
     "output_type": "stream",
     "text": [
      "Check the mean, standard deviation, and skewness of the original and simulated datasets\n",
      "\n",
      "                Rain           Temp           Rel. Hum.      Sun            Visibility\n",
      "---------------------------------------------------------------------------------------\n",
      "Mean orig:      2.0409         6.8099         87.1531        1.6151         22480.7097\n",
      "Mean sim:       2.6324         7.0033         88.0239        1.5692         22661.5348\n",
      "\n",
      "Std. Dev. orig: 3.5628         2.9758         5.5300         2.0540         6384.2594\n",
      "Std Dev. sim:   3.1394         2.7750         5.3006         1.8950         6227.2526\n",
      "\n",
      "Skewness orig:  2.3733        -0.2866        -0.2898         1.1031        -0.3038\n",
      "Skewness sim:   0.6481         0.0014         0.1575        -0.3314         0.0815\n"
     ]
    }
   ],
   "source": [
    "# Simulation of new data\n",
    "\n",
    "# Variables needed to generate random values\n",
    "# Skewness\n",
    "R_skew = Dublin_df[\"Rain (mm)\"].skew()\n",
    "RH_skew = Dublin_df[\"Rel. Hum. (%)\"].skew()\n",
    "S_skew = Dublin_df[\"Sun (hrs)\"].skew()\n",
    "T_skew = Dublin_df[\"Temp. (°C)\"].skew()\n",
    "V_skew = Dublin_df[\"Visibility (m)\"].skew()\n",
    "\n",
    "# Standard deviations\n",
    "R_std = Dublin_df[\"Rain (mm)\"].std()\n",
    "RH_std = Dublin_df[\"Rel. Hum. (%)\"].std()\n",
    "S_std = Dublin_df[\"Sun (hrs)\"].std()\n",
    "T_std = Dublin_df[\"Temp. (°C)\"].std()\n",
    "V_std = Dublin_df[\"Visibility (m)\"].std()\n",
    "\n",
    "# Mean values\n",
    "R_mean          # Already calculated\n",
    "S_mean          # Already calculated\n",
    "T_mean          # Already calculated\n",
    "RH_mean = Dublin_df[\"Rel. Hum. (%)\"].mean()\n",
    "V_mean = Dublin_df[\"Visibility (m)\"].mean()\n",
    "\n",
    "# Other variables\n",
    "No_of_samples = 93\n",
    "\n",
    "# Determine values using skewnorm (Weckesser, 2018) \n",
    "\n",
    "# Rain\n",
    "R_delta = R_skew / math.sqrt(1. + math.pow(R_skew, 2.))\n",
    "R_adjStdev = math.sqrt(math.pow(R_std, 2.) / (1. - 2. * math.pow(R_delta, 2.) / math.pi))\n",
    "R_adjMean = R_mean - R_adjStdev * math.sqrt(2. / math.pi) * R_delta\n",
    "R_Random = skewnorm.rvs(R_skew, loc = R_adjMean, scale = R_adjStdev, size = No_of_samples)\n",
    "\n",
    "# Relative Humidity\n",
    "RH_delta = RH_skew / math.sqrt(1. + math.pow(RH_skew, 2.))\n",
    "RH_adjStdev = math.sqrt(math.pow(RH_std, 2.) / (1. - 2. * math.pow(RH_delta, 2.) / math.pi))\n",
    "RH_adjMean = RH_mean - RH_adjStdev * math.sqrt(2. / math.pi) * RH_delta\n",
    "RH_Random = skewnorm.rvs(RH_skew, loc = RH_adjMean, scale = RH_adjStdev, size = No_of_samples)\n",
    "\n",
    "# Sun\n",
    "S_delta = S_skew / math.sqrt(1. + math.pow(S_skew, 2.))\n",
    "S_adjStdev = math.sqrt(math.pow(S_std, 2.) / (1. - 2. * math.pow(S_delta, 2.) / math.pi))\n",
    "S_adjMean = S_mean - S_adjStdev * math.sqrt(2. / math.pi) * S_delta\n",
    "S_Random = skewnorm.rvs(S_skew, loc = S_adjMean, scale = S_adjStdev, size = No_of_samples)\n",
    "\n",
    "# Temperature\n",
    "T_delta = T_skew / math.sqrt(1. + math.pow(T_skew, 2.))\n",
    "T_adjStdev = math.sqrt(math.pow(T_std, 2.) / (1. - 2. * math.pow(T_delta, 2.) / math.pi))\n",
    "T_adjMean = T_mean - T_adjStdev * math.sqrt(2. / math.pi) * T_delta\n",
    "T_Random = skewnorm.rvs(T_skew, loc = T_adjMean, scale = T_adjStdev, size = No_of_samples)\n",
    "\n",
    "# Visibility\n",
    "V_delta = V_skew / math.sqrt(1. + math.pow(V_skew, 2.))\n",
    "V_adjStdev = math.sqrt(math.pow(V_std, 2.) / (1. - 2. * math.pow(V_delta, 2.) / math.pi))\n",
    "V_adjMean = V_mean - V_adjStdev * math.sqrt(2. / math.pi) * V_delta\n",
    "V_Random = skewnorm.rvs(V_skew, loc = V_adjMean, scale = V_adjStdev, size = No_of_samples)\n",
    "\n",
    "# Create new, random dataframe\n",
    "Random_df = pd.DataFrame({\n",
    "    \"Date\": Dublin_df[\"Date\"],\n",
    "    \"Rain (mm)\": R_Random,\n",
    "    \"Temp. (°C)\": T_Random,\n",
    "    \"Rel. Hum. (%)\": RH_Random,\n",
    "    \"Sun (hrs)\": S_Random,\n",
    "    \"Visibility (m)\": V_Random\n",
    "})\n",
    "\n",
    "# Check the mean, and standard deviations of both the original and new datasets\n",
    "print(\"Check the mean, standard deviation, and skewness of the original and simulated datasets\")\n",
    "print()\n",
    "print(\"\".ljust(16) + \"Rain\".ljust(15) + \"Temp\".ljust(15) + \"Rel. Hum.\".ljust(15) + \"Sun\".ljust(15) + \"Visibility\")\n",
    "print(\"---------------------------------------------------------------------------------------\")\n",
    "\n",
    "# Means\n",
    "print(\"Mean orig: %11.4f %14.4f %15.4f %13.4f %18.4f\" %(R_mean, T_mean, RH_mean, S_mean, V_mean))\n",
    "print(\"Mean sim: %12.4f %14.4f %15.4f %13.4f %18.4f\" %(Random_df[\"Rain (mm)\"].mean(), Random_df[\"Temp. (°C)\"].mean(), \n",
    "                                                       Random_df[\"Rel. Hum. (%)\"].mean(), Random_df[\"Sun (hrs)\"].mean(), \n",
    "                                                       Random_df[\"Visibility (m)\"].mean()))\n",
    "print()\n",
    "# Standard deviation\n",
    "print(\"Std. Dev. orig: %4.4f %14.4f %14.4f %14.4f %17.4f\" %(R_std, T_std, RH_std, S_std, V_std))\n",
    "print(\"Std Dev. sim: %8.4f %14.4f %14.4f %14.4f %17.4f\" %(Random_df[\"Rain (mm)\"].std(), Random_df[\"Temp. (°C)\"].std(), \n",
    "                                                       Random_df[\"Rel. Hum. (%)\"].std(), Random_df[\"Sun (hrs)\"].std(), \n",
    "                                                       Random_df[\"Visibility (m)\"].std()))\n",
    "print()\n",
    "# Skewness\n",
    "print(\"Skewness orig: %7.4f %14.4f %14.4f %14.4f %14.4f\" %(R_skew, T_skew, RH_skew, S_skew, V_skew))\n",
    "print(\"Skewness sim: %8.4f %14.4f %14.4f %14.4f %14.4f\" %(Random_df[\"Rain (mm)\"].skew(), Random_df[\"Temp. (°C)\"].skew(), \n",
    "                                                       Random_df[\"Rel. Hum. (%)\"].skew(), Random_df[\"Sun (hrs)\"].skew(), \n",
    "                                                       Random_df[\"Visibility (m)\"].skew()))\n"
   ]
  },
  {
   "cell_type": "markdown",
   "metadata": {},
   "source": [
    "As we can see, some of the simulated values are reasonably close to the original data. However, it is noted that in some cases, both the size of the skewness, as well as the orientaion (positive/negative) has changed. This would indicate that the distribution used, while fairly accurate, may need to be further refined. Additionally, due to the small size of the data sample for each column, it is possible that this could affect the skewness changing orientation, as well as the discrepancies in the means and standard deviations. It is possible that a larger sample size, in the tens of thousands, would help reduce, if not eliminate these divergences.\n",
    "\n",
    "### Additional checks\n",
    "It is worthwhile to check that the dataset conforms to the logical values imposed by the laws of physics or nature. For example, the lower and upper bounds of for relative humidiy are 0% and 100%. If the values in the simulated data are higher or lower than these bounds, then they will need to be corrected. This will, however, change the mean, standard deviation, and skewness, but need to be done nonetheless."
   ]
  },
  {
   "cell_type": "code",
   "execution_count": 46,
   "metadata": {},
   "outputs": [
    {
     "name": "stdout",
     "output_type": "stream",
     "text": [
      "Description of the simulated data\n",
      "\n",
      "Shape of simulated dataframe\n",
      "Rows: 93\n",
      "Columns: 6\n",
      "\n",
      "       Rain (mm)  Temp. (°C)  Rel. Hum. (%)  Sun (hrs)  Visibility (m)\n",
      "count  93.000000   93.000000      93.000000  93.000000       93.000000\n",
      "mean    2.632412    7.003267      88.023939   1.569207    22661.534757\n",
      "std     3.139442    2.774974       5.300579   1.895003     6227.252588\n",
      "min    -2.696995    0.284807      75.095034  -3.712385     8404.767846\n",
      "25%     0.252733    5.227479      84.471117   0.552833    18167.993056\n",
      "50%     2.356226    7.093326      86.931886   1.755624    22344.291933\n",
      "75%     3.960985    8.822914      91.834462   2.570001    27151.203791\n",
      "max    10.715903   13.976950      98.865432   5.980755    38724.064459\n"
     ]
    }
   ],
   "source": [
    "# Print the description of the simulated dataset\n",
    "\n",
    "# Get new values for rows and columns\n",
    "new_row, new_col = Random_df.shape\n",
    "\n",
    "print(\"Description of the simulated data\")\n",
    "print()\n",
    "print(\"Shape of simulated dataframe\")\n",
    "print(\"Rows:\", new_row)\n",
    "print(\"Columns:\", new_col)\n",
    "print()\n",
    "print(Random_df.describe())"
   ]
  },
  {
   "cell_type": "markdown",
   "metadata": {},
   "source": [
    "Adjusting the simulated values to set values above or below the lower/upper bounds to those bounds."
   ]
  },
  {
   "cell_type": "code",
   "execution_count": 47,
   "metadata": {},
   "outputs": [
    {
     "name": "stdout",
     "output_type": "stream",
     "text": [
      "Stats for original and simulated dataframes\n",
      "\n",
      "Original data\n",
      "       Rain (mm)  Temp. (°C)  Rel. Hum. (%)  Sun (hrs)  Visibility (m)\n",
      "count  93.000000   93.000000      93.000000  93.000000       93.000000\n",
      "mean    2.040860    6.809892      87.153118   1.615054    22480.709677\n",
      "std     3.562768    2.975827       5.529958   2.053996     6384.259399\n",
      "min     0.000000   -0.520000      73.790000   0.000000     8979.000000\n",
      "25%     0.000000    4.850000      83.170000   0.100000    18792.000000\n",
      "50%     0.200000    6.850000      88.040000   0.500000    22417.000000\n",
      "75%     2.500000    9.020000      90.790000   2.700000    27375.000000\n",
      "max    15.500000   13.810000      97.580000   6.900000    36667.000000\n",
      "\n",
      "Simulated data\n",
      "       Rain (mm)  Temp. (°C)  Rel. Hum. (%)  Sun (hrs)  Visibility (m)\n",
      "count  93.000000   93.000000      93.000000  93.000000       93.000000\n",
      "mean    2.848688    7.003267      88.023939   1.816121    22639.415784\n",
      "std     2.874082    2.774974       5.300579   1.479033     6172.995870\n",
      "min     0.000000    0.284807      75.095034   0.000000     8404.767846\n",
      "25%     0.252733    5.227479      84.471117   0.552833    18167.993056\n",
      "50%     2.356226    7.093326      86.931886   1.755624    22344.291933\n",
      "75%     3.960985    8.822914      91.834462   2.570001    27151.203791\n",
      "max    10.715903   13.976950      98.865432   5.980755    36667.000000\n",
      "\n",
      "Top 5 rows of simulated dataframe\n",
      "        Date  Rain (mm)  Temp. (°C)  Rel. Hum. (%)  Sun (hrs)  Visibility (m)\n",
      "0 2016-01-12   2.869562    3.024113      83.266077   3.361143    35455.907383\n",
      "1 2016-02-12   3.337191    7.356402      80.658134   2.204337    27250.470526\n",
      "2 2016-03-12   3.136005    6.955520      94.986008   4.177167    16356.348078\n",
      "3 2016-04-12   0.108480   10.733554      85.571857   2.519894    19776.271696\n",
      "4 2016-05-12   4.576066   11.201290      94.283205   0.798413    22315.898496\n"
     ]
    }
   ],
   "source": [
    "# Cleanse of data to ensure that the logical upper and lower bounds are adhered to\n",
    "\n",
    "# Check for values above or below the upper or lower bounds for each variable\n",
    "# Replace each variable outside these bounds with the boundary limit\n",
    "\n",
    "# Rain has a lower bound of 0 mm per day, and an upper bound of the max of the original dataset\n",
    "Random_df.loc[Random_df[\"Rain (mm)\"] < 0, \"Rain (mm)\"] = 0\n",
    "Random_df.loc[Random_df[\"Rain (mm)\"] > Dublin_df[\"Rain (mm)\"].max(), \"Rain (mm)\"] = Dublin_df[\"Rain (mm)\"].max()\n",
    "\n",
    "# Temperature has a lower bound of -15.7C, and an upper bound of 17.1C (respective records for Dublin in December)\n",
    "Random_df.loc[Random_df[\"Temp. (°C)\"] < -15.7, \"Temp. (°C)\"] = -15.7   \n",
    "Random_df.loc[Random_df[\"Temp. (°C)\"] > 17.1, \"Temp. (°C)\"] = 17.1\n",
    "\n",
    "# Relative humidity has a lower bound of 0 (%), and an uppder bound of 100 (%)\n",
    "Random_df.loc[Random_df[\"Rel. Hum. (%)\"] < 0, \"Rel. Hum. (%)\"] = 0\n",
    "Random_df.loc[Random_df[\"Rel. Hum. (%)\"] > 100, \"Rel. Hum. (%)\"] = 100\n",
    "\n",
    "# Sun has a lower bound of 0 (hrs), and an upper bound of the max of the original dataset\n",
    "Random_df.loc[Random_df[\"Sun (hrs)\"] < 0, \"Sun (hrs)\"] = 0\n",
    "Random_df.loc[Random_df[\"Sun (hrs)\"] > Dublin_df[\"Sun (hrs)\"].max(), \"Sun (hrs)\"] = Dublin_df[\"Sun (hrs)\"].max()\n",
    "\n",
    "# Visibility has a lower bound of 0, and an upper bound of the max of the original dataset\n",
    "Random_df.loc[Random_df[\"Visibility (m)\"] < 0, \"Visibility (m)\"] = 0\n",
    "Random_df.loc[Random_df[\"Visibility (m)\"] > Dublin_df[\"Visibility (m)\"].max(), \"Visibility (m)\"] = Dublin_df[\"Visibility (m)\"].max()\n",
    "\n",
    "# Print descripiton of dataframe\n",
    "print(\"Stats for original and simulated dataframes\")\n",
    "print()\n",
    "print(\"Original data\")\n",
    "print(Dublin_df.describe())\n",
    "print()\n",
    "print(\"Simulated data\")\n",
    "print(Random_df.describe())\n",
    "print()\n",
    "print(\"Top 5 rows of simulated dataframe\")\n",
    "print(Random_df.head(5))"
   ]
  },
  {
   "cell_type": "markdown",
   "metadata": {},
   "source": [
    "The histograms for the simulated data for rain, temperature, and sun values can be plotted as was done in for the [original dataset](#Plotting-Statistics)."
   ]
  },
  {
   "cell_type": "code",
   "execution_count": 49,
   "metadata": {},
   "outputs": [
    {
     "data": {
      "image/png": "[encoded data removed]",
      "text/plain": [
       "<Figure size 864x432 with 1 Axes>"
      ]
     },
     "metadata": {
      "needs_background": "light"
     },
     "output_type": "display_data"
    }
   ],
   "source": [
    "# Plot of distribution of simulated weather data\n",
    "\n",
    "# For rain, new values for mean and median values\n",
    "R_mean_r = Random_df[\"Rain (mm)\"].mean()\n",
    "R_median_r = Random_df[\"Rain (mm)\"].median()\n",
    "\n",
    "# For temp, new values for mean and median values\n",
    "T_mean_r = Random_df[\"Temp. (°C)\"].mean()\n",
    "T_median_r = Random_df[\"Temp. (°C)\"].median()\n",
    "\n",
    "# For sun, new values for mean and median values\n",
    "S_mean_r = Random_df[\"Sun (hrs)\"].mean()\n",
    "S_median_r = Random_df[\"Sun (hrs)\"].median()\n",
    "\n",
    "# Seaborn distplots showing both histograms and bell curves for temp, rain, and sun\n",
    "sns.distplot(Random_df[\"Temp. (°C)\"], axlabel = False, kde = False, label = \"Temp. (°C)\")\n",
    "sns.distplot(Random_df[\"Rain (mm)\"], axlabel = False, kde = False, label = \"Rain (mm)\")\n",
    "sns.distplot(Random_df[\"Sun (hrs)\"], axlabel = False, kde = False, label = \"Sun (hrs)\")\n",
    "\n",
    "# Plotlines for mean and median\n",
    "plt.axvline(R_mean_r, color = 'r', linestyle = \"-\", label = \"Rain - mean\")\n",
    "plt.axvline(R_median_r, color = 'k', linestyle = \"--\", label = \"Rain - median\")\n",
    "plt.axvline(T_mean_r, color = 'g', linestyle = \"-\", label = \"Temp - mean\")\n",
    "plt.axvline(T_median_r, color = 'y', linestyle = \"--\", label = \"Temp - median\")\n",
    "plt.axvline(S_median_r, color = 'b', linestyle = \"-\", label = \"Sun - median\")\n",
    "plt.axvline(S_mean_r, color = 'm', linestyle = \"--\", label = \"Sun - mean\")\n",
    "\n",
    "# Set size of plot area\n",
    "plt.rcParams[\"figure.figsize\"] = [12, 6]\n",
    "\n",
    "# Set title, labels, and legend\n",
    "plt.title(\"Distribution of rain, temp, and sun - simulated data\")\n",
    "plt.xlabel(\"mm (rain), °C (temp), hours (sun)\")\n",
    "plt.ylabel(\"Frequency\")\n",
    "plt.grid(b = True, which = \"major\", axis = \"x\")\n",
    "plt.legend()\n",
    "\n",
    "# Show plot\n",
    "plt.show()"
   ]
  },
  {
   "cell_type": "markdown",
   "metadata": {},
   "source": [
    "## Bibilography\n",
    "* Azzalini, A., 2018. The Skew-Normal Probability Distribution. [Online] Available at: http://azzalini.stat.unipd.it/SN/index.html [Accessed 10 December 2019].\n",
    "* haahr, M., 2019. Introduction to Randomness and Random Numbers. [Online] Available at: https://www.random.org/randomness/ [Accessed 7 November 2019].\n",
    "* Horvitz, A., 2019. Create random numbers with left skewed probability distribution. [Online] Available at: https://stackoverflow.com/questions/24854965/create-random-numbers-with-left-skewed-probability-distribution/56552531#56552531 [Accessed 12 December 2019].\n",
    "* Lynn, S., 2016. Analysis of Weather data using Pandas, Python, and Seaborn. [Online] Available at: https://www.shanelynn.ie/analysis-of-weather-data-using-pandas-python-and-seaborn [Accessed 30 November 2019].\n",
    "* Met Eireann, 2010. Absolute maximum air temperatures (°C) for each month at selected stations. [Online] Available at: http://archive.met.ie/climate-ireland/extreme_maxtemps.pdf [Accessed 12 December 2019].\n",
    "* Met Eireann, 2010. Absolute minimum air temperatures (°C) for each month at selected stations. [Online] Available at: http://archive.met.ie/climate-ireland/extreme_mintemps.pdf [Accessed 12 December 2019].\n",
    "* Met Éireann, 2019. Dublin Airport Hourly Weather Station Data. [Online] Available at: https://data.gov.ie/dataset/dublin-airport-hourly-weather-station-data/resource/bbb2cb83-5982-48ca-9da1-95280f5a4c0d?inner_span=True [Accessed 30 November 2019].\n",
    "* SciPy.org, 2019. scipy.stats.johnsonsb. [Online] Available at: https://scipy.github.io/devdocs/generated/scipy.stats.johnsonsb.html#scipy.stats.johnsonsb [Accessed 10 December 2019].\n",
    "* SCiPy.org, 2019. scipy.stats.skewnorm. [Online] Available at: https://docs.scipy.org/doc/scipy/reference/generated/scipy.stats.skewnorm.html [Accessed 12 December 2019].\n",
    "* Weckesser, W., 2018. scipy skewnorm mean not matching theory?. [Online] Available at: https://stackoverflow.com/questions/49367436/scipy-skewnorm-mean-not-matching-theory [Accessed 12 December 2019].\n",
    "* Weisstein, E. W., 2019. Correlation. [Online] Available at: http://mathworld.wolfram.com/Correlation.html [Accessed 3 November 2019].\n",
    "* Zaric, D., 2019. Better Heatmaps and Correlation Matrix Plots in Python. [Online] Available at: https://towardsdatascience.com/better-heatmaps-and-correlation-matrix-plots-in-python-41445d0f2bec [Accessed 10 December 2019]."
   ]
  },
  {
   "cell_type": "code",
   "execution_count": null,
   "metadata": {},
   "outputs": [],
   "source": []
  }
 ],
 "metadata": {
  "kernelspec": {
   "display_name": "Python 3",
   "language": "python",
   "name": "python3"
  },
  "language_info": {
   "codemirror_mode": {
    "name": "ipython",
    "version": 3
   },
   "file_extension": ".py",
   "mimetype": "text/x-python",
   "name": "python",
   "nbconvert_exporter": "python",
   "pygments_lexer": "ipython3",
   "version": "3.7.3"
  }
 },
 "nbformat": 4,
 "nbformat_minor": 2
}
