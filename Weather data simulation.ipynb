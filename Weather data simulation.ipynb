{
 "cells": [
  {
   "cell_type": "markdown",
   "metadata": {},
   "source": [
    "The retrieved dataset is too large for the proposed simulation. It is therefore intended reduce it in size. This has been done by limiting the data to the period of the month of December, and the years of 2016 to 2018 inclusive. The number of record points has been reduced to rain, temperature, relative humidity, sun, and visibility. Additionally, the rows of data have been reduced by amalgamating the hourly records into days. The rainfall levels, and hours of sunshine have been added together to provide a total sum for each day. The temperature, relative humidity, and visibility have been averaged for the day in question. This has reduced the number of dataset to 93 (31 x 3) rows, and 6 columns. \n",
    "\n",
    "Both the original and new datasets are available in this repository.\n",
    "\n",
    "### Why was this dataset chosen?\n",
    "\n",
    "The dataset was chosen for a number of reasons. Primarily, it was chosen as it provides a large volume of data, with interrelated variables. Some of these variables may be positively, or negatively, correlated to each other. This would stand to reason, as the number of hours of sunshine, and the millimetres of rain that have fallen would normally be negatively correlated. Secondly, the dataset is related to the weather in Ireland, or at least Dublin. As the weather .is a favourite topic of conversation, the dataset seemed appropriate.\n",
    "\n",
    "## Setup\n",
    "Before the analysis of the dataset can begin, it is necessary to import the data into a dataframe. This will allow the determination of various statistics with regards to the dataset, as well as providing a basis for the simulation to be run. \n",
    "\n",
    "The script below will import the data, and set it up in a dataframe."
   ]
  },
  {
   "cell_type": "code",
   "execution_count": 3,
   "metadata": {},
   "outputs": [
    {
     "name": "stdout",
     "output_type": "stream",
     "text": [
      "(93, 6)\n"
     ]
    }
   ],
   "source": [
    "import numpy as np\n",
    "import pandas as pd\n",
    "from datetime import date\n",
    "import seaborn as sns\n",
    "import matplotlib.pyplot as plt\n",
    "\n",
    "url = \"https://raw.githubusercontent.com/Clauric/PfDA_Sim_Project/master/Dublin%20Airport%20Weather%202016%20-%202018%20cummulative.csv\"\n",
    "\n",
    "Dublin_df = pd.read_csv(url)\n",
    "\n",
    "print(Dublin_df.shape)"
   ]
  },
  {
   "cell_type": "code",
   "execution_count": 4,
   "metadata": {},
   "outputs": [
    {
     "name": "stdout",
     "output_type": "stream",
     "text": [
      "          rain      temp      rhum       sun       vis\n",
      "rain  1.000000  0.022797  0.186838 -0.183554 -0.363577\n",
      "temp  0.022797  1.000000  0.012162 -0.432843 -0.272923\n",
      "rhum  0.186838  0.012162  1.000000 -0.147500 -0.610795\n",
      "sun  -0.183554 -0.432843 -0.147500  1.000000  0.280341\n",
      "vis  -0.363577 -0.272923 -0.610795  0.280341  1.000000\n",
      "rain    2.373325\n",
      "temp   -0.286573\n",
      "rhum   -0.289834\n",
      "sun     1.103147\n",
      "vis    -0.303844\n",
      "dtype: float64\n",
      "rain    5.245557\n",
      "temp   -0.232388\n",
      "rhum   -0.558651\n",
      "sun    -0.166213\n",
      "vis    -0.512492\n",
      "dtype: float64\n"
     ]
    }
   ],
   "source": [
    "print(Dublin_df.corr())\n",
    "print(Dublin_df.skew())\n",
    "print(Dublin_df.kurt())"
   ]
  },
  {
   "cell_type": "code",
   "execution_count": null,
   "metadata": {},
   "outputs": [],
   "source": []
  }
 ],
 "metadata": {
  "kernelspec": {
   "display_name": "Python 3",
   "language": "python",
   "name": "python3"
  },
  "language_info": {
   "codemirror_mode": {
    "name": "ipython",
    "version": 3
   },
   "file_extension": ".py",
   "mimetype": "text/x-python",
   "name": "python",
   "nbconvert_exporter": "python",
   "pygments_lexer": "ipython3",
   "version": "3.7.3"
  }
 },
 "nbformat": 4,
 "nbformat_minor": 2
}
